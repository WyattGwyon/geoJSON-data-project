{
 "cells": [
  {
   "cell_type": "markdown",
   "metadata": {},
   "source": [
    "# Our first steps into exploring the data with Mongo"
   ]
  },
  {
   "cell_type": "code",
   "execution_count": 205,
   "metadata": {},
   "outputs": [],
   "source": [
    "from pymongo import MongoClient\n",
    "from dotenv import load_dotenv\n",
    "import os\n",
    "import requests\n",
    "import json"
   ]
  },
  {
   "cell_type": "code",
   "execution_count": 206,
   "metadata": {},
   "outputs": [],
   "source": [
    "client = MongoClient(\"mongodb://localhost\")\n",
    "db = client.get_database(\"companydb\")"
   ]
  },
  {
   "cell_type": "markdown",
   "metadata": {},
   "source": [
    "### We are validating our connection to the database that we want."
   ]
  },
  {
   "cell_type": "code",
   "execution_count": 207,
   "metadata": {},
   "outputs": [
    {
     "data": {
      "text/plain": [
       "18801"
      ]
     },
     "execution_count": 207,
     "metadata": {},
     "output_type": "execute_result"
    }
   ],
   "source": [
    "comp_find = db.companies.find({})\n",
    "comp_find = list(comp_find)\n",
    "len(comp_find)"
   ]
  },
  {
   "cell_type": "code",
   "execution_count": 208,
   "metadata": {},
   "outputs": [],
   "source": [
    "comp = db.companies"
   ]
  },
  {
   "cell_type": "markdown",
   "metadata": {},
   "source": [
    "### We are going to elminate all the dictionaries without lat/long values and city values and limit results to US"
   ]
  },
  {
   "cell_type": "code",
   "execution_count": 209,
   "metadata": {},
   "outputs": [],
   "source": [
    "\n",
    "res = comp.aggregate([\n",
    "                      {\"$unwind\":\"$offices\" },\n",
    "                      {\"$match\":{\"offices.latitude\":{\"$ne\":None}}},\n",
    "                      {\"$match\":{\"offices.longitude\":{\"$ne\":None}}},\n",
    "                      {\"$match\":{\"offices.city\":{\"$ne\":None}}},\n",
    "                      {\"$match\":{\"offices.city\":{\"$ne\": \"\"}}},\n",
    "                      {\"$match\":{\"offices.country_code\": \"USA\"}},\n",
    "                      {\"$project\":{\"_id\":0}}\n",
    "                    ])\n"
   ]
  },
  {
   "cell_type": "code",
   "execution_count": 37,
   "metadata": {},
   "outputs": [
    {
     "data": {
      "text/plain": [
       "pymongo.command_cursor.CommandCursor"
      ]
     },
     "execution_count": 37,
     "metadata": {},
     "output_type": "execute_result"
    }
   ],
   "source": [
    "type(res)"
   ]
  },
  {
   "cell_type": "code",
   "execution_count": 32,
   "metadata": {},
   "outputs": [
    {
     "data": {
      "text/plain": [
       "10834"
      ]
     },
     "execution_count": 32,
     "metadata": {},
     "output_type": "execute_result"
    }
   ],
   "source": [
    "len(list(res))"
   ]
  },
  {
   "cell_type": "markdown",
   "metadata": {},
   "source": [
    "### The previous line and the following line were the steps that called our attention to the fact that `res` is an interator type, we now recognize as CommandCursor and it gave us an ERROR."
   ]
  },
  {
   "cell_type": "code",
   "execution_count": 29,
   "metadata": {},
   "outputs": [
    {
     "data": {
      "text/plain": [
       "0"
      ]
     },
     "execution_count": 29,
     "metadata": {},
     "output_type": "execute_result"
    }
   ],
   "source": [
    "len(list(res))"
   ]
  },
  {
   "cell_type": "markdown",
   "metadata": {},
   "source": [
    "### This will create a new collection of the offices. (It should only execute once because it will continue to add documents to the collection"
   ]
  },
  {
   "cell_type": "code",
   "execution_count": 78,
   "metadata": {},
   "outputs": [
    {
     "data": {
      "text/plain": [
       "<pymongo.results.InsertManyResult at 0x12d3f0040>"
      ]
     },
     "execution_count": 78,
     "metadata": {},
     "output_type": "execute_result"
    }
   ],
   "source": [
    "db.us_offices.insert_many(res)\n"
   ]
  },
  {
   "cell_type": "markdown",
   "metadata": {},
   "source": [
    "## Error Resolved\n",
    "- I was recieving error after error with this previous command. Meaning I could not unwind the collection and filter to create another collection.\n",
    "#### Here were the steps I followed when I discovered the problem:\n",
    "    - 1) ejecute \".agg\"\n",
    "    - 2) chech \"len\"\n",
    "    - 3) try to view [0] from the list in the third cell and it gave me \"out of range\" error\n",
    "    - 4) tried again \"len\" en el tercer cell y me daba 0\n",
    "#### SO I KNOW THIS IS AN ITERATOR THAT ITERATED TO ITS LIMIT\n",
    "    - 5) second time ejecute \".agg\"\n",
    "    - 6) instead of trying \"len\",  I went directly to ejecute \".insert_many\"\n",
    "\n",
    "----------------------"
   ]
  },
  {
   "cell_type": "markdown",
   "metadata": {},
   "source": [
    "## Objective\n",
    "- find the cities that have the highest number of tech companies that have raised more than 1 Million"
   ]
  },
  {
   "cell_type": "code",
   "execution_count": 210,
   "metadata": {},
   "outputs": [],
   "source": [
    "filter_q = { }\n",
    "project = {\"_id\":0,\"name\":1, \"offices.city\": 1, \"offices.state_code\":1, \"total_money_raised\": 1 }\n",
    "res = list(db.us_offices.find(filter_q, project).sort([(\"offices.city\",1)]))\n",
    "# res"
   ]
  },
  {
   "cell_type": "code",
   "execution_count": 211,
   "metadata": {},
   "outputs": [],
   "source": [
    "# print([document[\"offices\"]['city'] for document in res])"
   ]
  },
  {
   "cell_type": "markdown",
   "metadata": {},
   "source": [
    "### We use this `for` loop to add up the numbers of companies in each city. \n",
    "- This will give us a sorted list of those cities from highest to lowest."
   ]
  },
  {
   "cell_type": "code",
   "execution_count": 212,
   "metadata": {},
   "outputs": [
    {
     "data": {
      "text/plain": [
       "{'San Francisco': 659,\n",
       " 'New York': 579,\n",
       " 'Seattle': 179,\n",
       " 'Los Angeles': 168,\n",
       " 'Austin': 166,\n",
       " 'Palo Alto': 163,\n",
       " 'Sunnyvale': 148,\n",
       " 'Mountain View': 147,\n",
       " 'San Jose': 140,\n",
       " 'Chicago': 137,\n",
       " 'San Diego': 114,\n",
       " 'San Mateo': 98,\n",
       " 'Santa Clara': 98,\n",
       " 'Boston': 89,\n",
       " 'Atlanta': 85,\n",
       " 'Cambridge': 76,\n",
       " 'Redwood City': 71,\n",
       " 'Santa Monica': 60,\n",
       " 'Menlo Park': 57,\n",
       " 'Boulder': 56}"
      ]
     },
     "execution_count": 212,
     "metadata": {},
     "output_type": "execute_result"
    }
   ],
   "source": [
    "companies_in_city = {}\n",
    "for comp in res:\n",
    "    city = comp[\"offices\"][\"city\"]\n",
    "    companies_in_city[city] = companies_in_city.get(city,0) + 1\n",
    "    \n",
    "    \n",
    "top_cities = {k: v for k, v in sorted(companies_in_city.items(), key=lambda item: item[1], reverse=True)[:20]}\n",
    "top_cities"
   ]
  },
  {
   "cell_type": "markdown",
   "metadata": {},
   "source": [
    "### Look at that! That's nice! We also want to know what type of businesses are in each city.\n",
    "- We will define a function **startups_in_city** that will take a city name and return a list of young companies. "
   ]
  },
  {
   "cell_type": "code",
   "execution_count": 213,
   "metadata": {},
   "outputs": [],
   "source": [
    "def startups_in_city(city_name):\n",
    "    filter_q = {\"offices.city\": city_name,\"founded_year\":{\"$gte\":2010}}\n",
    "    project = {\"_id\":0,\"name\":1, \"founded_year\":1, \"category_code\":1, \"total_money_raised\": 1 }\n",
    "    res = list(db.us_offices.find(filter_q, project).sort([(\"category_code\",1)]))\n",
    "    return res\n",
    "\n"
   ]
  },
  {
   "cell_type": "markdown",
   "metadata": {},
   "source": [
    "### Starting at the top of our list in Seattle with 659 companies, we see that there are 3 young companies in San Fran that seem tech related that have raised more than 1 million."
   ]
  },
  {
   "cell_type": "code",
   "execution_count": 219,
   "metadata": {},
   "outputs": [
    {
     "data": {
      "text/plain": [
       "[{'name': 'MyLikes',\n",
       "  'category_code': 'advertising',\n",
       "  'founded_year': 2010,\n",
       "  'total_money_raised': '$6.23M'},\n",
       " {'name': 'YouNoodle',\n",
       "  'category_code': 'analytics',\n",
       "  'founded_year': 2010,\n",
       "  'total_money_raised': '$0'},\n",
       " {'name': 'Shopseen',\n",
       "  'category_code': 'ecommerce',\n",
       "  'founded_year': 2013,\n",
       "  'total_money_raised': '$0'},\n",
       " {'name': 'Advisor',\n",
       "  'category_code': 'enterprise',\n",
       "  'founded_year': 2011,\n",
       "  'total_money_raised': '$0'},\n",
       " {'name': 'Fliptop',\n",
       "  'category_code': 'enterprise',\n",
       "  'founded_year': 2010,\n",
       "  'total_money_raised': '$6.79M'},\n",
       " {'name': 'Indee',\n",
       "  'category_code': 'games_video',\n",
       "  'founded_year': 2010,\n",
       "  'total_money_raised': '$0'},\n",
       " {'name': 'Fliggo',\n",
       "  'category_code': 'games_video',\n",
       "  'founded_year': 2012,\n",
       "  'total_money_raised': '$0'},\n",
       " {'name': 'Widgetbox',\n",
       "  'category_code': 'other',\n",
       "  'founded_year': 2012,\n",
       "  'total_money_raised': '$14.5M'}]"
      ]
     },
     "execution_count": 219,
     "metadata": {},
     "output_type": "execute_result"
    }
   ],
   "source": [
    "San_Fran = startups_in_city(\"San Francisco\")\n",
    "San_Fran\n"
   ]
  },
  {
   "cell_type": "markdown",
   "metadata": {},
   "source": [
    "### Surprisingly, we have only 2 New York startups with significant money_raised."
   ]
  },
  {
   "cell_type": "code",
   "execution_count": 180,
   "metadata": {},
   "outputs": [
    {
     "data": {
      "text/plain": [
       "[{'name': 'Advaliant',\n",
       "  'category_code': 'advertising',\n",
       "  'founded_year': 2013,\n",
       "  'total_money_raised': '$100k'},\n",
       " {'name': 'Advaliant',\n",
       "  'category_code': 'advertising',\n",
       "  'founded_year': 2013,\n",
       "  'total_money_raised': '$100k'},\n",
       " {'name': 'Kidos',\n",
       "  'category_code': 'games_video',\n",
       "  'founded_year': 2011,\n",
       "  'total_money_raised': '$200k'},\n",
       " {'name': 'Kidos',\n",
       "  'category_code': 'games_video',\n",
       "  'founded_year': 2011,\n",
       "  'total_money_raised': '$200k'},\n",
       " {'name': 'PeekYou',\n",
       "  'category_code': 'search',\n",
       "  'founded_year': 2012,\n",
       "  'total_money_raised': '$1.83M'},\n",
       " {'name': 'Unison Technologies',\n",
       "  'category_code': 'software',\n",
       "  'founded_year': 2011,\n",
       "  'total_money_raised': '$0'},\n",
       " {'name': 'Yipit',\n",
       "  'category_code': 'web',\n",
       "  'founded_year': 2010,\n",
       "  'total_money_raised': '$7.55M'}]"
      ]
     },
     "execution_count": 180,
     "metadata": {},
     "output_type": "execute_result"
    }
   ],
   "source": [
    "NY = startups_in_city(\"New York\")\n",
    "NY"
   ]
  },
  {
   "cell_type": "markdown",
   "metadata": {},
   "source": [
    "### So far LA is the place to beat with 3 \"start-ups\" (two in E-commerce and one in the video game industry)."
   ]
  },
  {
   "cell_type": "code",
   "execution_count": 184,
   "metadata": {},
   "outputs": [
    {
     "data": {
      "text/plain": [
       "[{'name': 'RazorGator',\n",
       "  'category_code': 'ecommerce',\n",
       "  'founded_year': 2011,\n",
       "  'total_money_raised': '$58.8M'},\n",
       " {'name': 'Magento',\n",
       "  'category_code': 'ecommerce',\n",
       "  'founded_year': 2010,\n",
       "  'total_money_raised': '$22.5M'},\n",
       " {'name': 'Social Gaming Network',\n",
       "  'category_code': 'games_video',\n",
       "  'founded_year': 2011,\n",
       "  'total_money_raised': '$17.1M'},\n",
       " {'name': 'FirstString',\n",
       "  'category_code': 'search',\n",
       "  'founded_year': 2011,\n",
       "  'total_money_raised': '$200k'}]"
      ]
     },
     "execution_count": 184,
     "metadata": {},
     "output_type": "execute_result"
    }
   ],
   "source": [
    "LA = startups_in_city(\"Los Angeles\")\n",
    "LA"
   ]
  },
  {
   "cell_type": "markdown",
   "metadata": {},
   "source": [
    "# Let's go to LA for our API search. There should be no problem finding some vegan restaurants and Starubucks around there!!! We're off to the city of the Big Lebowski..."
   ]
  },
  {
   "cell_type": "markdown",
   "metadata": {},
   "source": [
    "![Jeff Lebowski looking happy!](Lebowski.jpeg \"Maauuuud!\")"
   ]
  },
  {
   "cell_type": "markdown",
   "metadata": {},
   "source": [
    "(Get [API's](/notebooks/Google%20API%20%20GeoCoding%20%26%20Places%20.ipynb#Looks-like-our-vegan-bet-paid-off) next)"
   ]
  }
 ],
 "metadata": {
  "kernelspec": {
   "display_name": "Python 3",
   "language": "python",
   "name": "python3"
  },
  "language_info": {
   "codemirror_mode": {
    "name": "ipython",
    "version": 3
   },
   "file_extension": ".py",
   "mimetype": "text/x-python",
   "name": "python",
   "nbconvert_exporter": "python",
   "pygments_lexer": "ipython3",
   "version": "3.8.5"
  }
 },
 "nbformat": 4,
 "nbformat_minor": 4
}
