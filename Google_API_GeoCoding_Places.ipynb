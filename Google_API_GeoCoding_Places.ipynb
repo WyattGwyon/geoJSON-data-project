{
 "cells": [
  {
   "cell_type": "markdown",
   "metadata": {},
   "source": [
    "# In this project, Google is our chosen API"
   ]
  },
  {
   "cell_type": "code",
   "execution_count": 334,
   "metadata": {},
   "outputs": [],
   "source": [
    "from dotenv import load_dotenv\n",
    "import os\n",
    "from urllib.parse import urlencode, urlparse, parse_qsl\n",
    "import requests\n",
    "from pymongo import MongoClient\n",
    "import json"
   ]
  },
  {
   "cell_type": "code",
   "execution_count": 335,
   "metadata": {},
   "outputs": [
    {
     "data": {
      "text/plain": [
       "True"
      ]
     },
     "execution_count": 335,
     "metadata": {},
     "output_type": "execute_result"
    }
   ],
   "source": [
    "load_dotenv()"
   ]
  },
  {
   "cell_type": "markdown",
   "metadata": {},
   "source": [
    " (***Very Important Debugging!!! The variable in `.env` SHOULD NOT be inside quotations. The mistake made here was having both exactly the same in `.env` and in `jupyter` as the argument of `os.getenv`.*** )"
   ]
  },
  {
   "cell_type": "code",
   "execution_count": 336,
   "metadata": {},
   "outputs": [],
   "source": [
    "g_key = os.getenv(\"GOOGLE_KEY2\")"
   ]
  },
  {
   "cell_type": "code",
   "execution_count": 337,
   "metadata": {},
   "outputs": [
    {
     "data": {
      "text/plain": [
       "str"
      ]
     },
     "execution_count": 337,
     "metadata": {},
     "output_type": "execute_result"
    }
   ],
   "source": [
    "type(g_key)"
   ]
  },
  {
   "cell_type": "markdown",
   "metadata": {},
   "source": [
    "### Formulating API Sample Request - Method 1 \n",
    "- uses `urlencode(params)`"
   ]
  },
  {
   "cell_type": "code",
   "execution_count": null,
   "metadata": {},
   "outputs": [],
   "source": [
    "g_key = os.getenv(\"GOOGLE_KEY2\")\n",
    "data_type = \"json\"\n",
    "endpoint = f\"https://maps.googleapis.com/maps/api/geocode/{data_type}\"\n",
    "params = {\"address\":\"1600 Amphitheatre Parkway, Mountain View, CA\", \"key\":g_key}\n",
    "\n",
    "\n",
    "## urlencode puts the parameters in the url from a dictionary\n",
    "url_params = urlencode(params) #print(url_params)\n",
    "\n",
    "\n",
    "## We used this sample to construct the above parameters\n",
    "#sample = \"https://maps.googleapis.com/maps/api/geocode/json?address=1600+Amphitheatre+Parkway,+Mountain+View,+CA&key=YOUR_API_KEY\"\n",
    "\n",
    "url = f\"{endpoint}?{url_params}\""
   ]
  },
  {
   "cell_type": "markdown",
   "metadata": {},
   "source": [
    "#### Sample function for Request - Method 1\n"
   ]
  },
  {
   "cell_type": "code",
   "execution_count": 201,
   "metadata": {},
   "outputs": [],
   "source": [
    "g_key = os.getenv(\"GOOGLE_KEY2\")\n",
    "def extract_lat_lng(address_or_postalcode, data_type = \"json\"):\n",
    "    endpoint = f\"https://maps.googleapis.com/maps/api/geocode/{data_type}\"\n",
    "    params = {\"address\": address_or_postalcode, \"key\":g_key}\n",
    "    url_params = urlencode(params)\n",
    "    url = f\"{endpoint}?{url_params}\"\n",
    "    r = requests.get(url)\n",
    "    if r.status_code not in range(200, 299):\n",
    "        return {}\n",
    "    latlng = {}\n",
    "    try:\n",
    "         latlng = r.json()['results'][0]['geometry']['location']\n",
    "    except:\n",
    "        pass\n",
    "    return latlng.get(\"lat\"),latlng.get(\"lng\")"
   ]
  },
  {
   "cell_type": "code",
   "execution_count": 202,
   "metadata": {},
   "outputs": [
    {
     "data": {
      "text/plain": [
       "(37.42165019999999, -122.0856843)"
      ]
     },
     "execution_count": 202,
     "metadata": {},
     "output_type": "execute_result"
    }
   ],
   "source": [
    "extract_lat_lng(\"1600 Amphitheatre Parkway, Mountain View, CA\")"
   ]
  },
  {
   "cell_type": "code",
   "execution_count": null,
   "metadata": {},
   "outputs": [],
   "source": [
    "https://maps.googleapis.com/maps/api/place/findplacefromtext/output?parameters\n",
    "data_type = \"json\"\n",
    "endpoint = f\"https://maps.googleapis.com/maps/api/place/findplacefromtex/{data_type}\"   \n",
    "params = {\"findplacefromtext\" = \"starbucks\"}    \n",
    "url_params = urlencode(params)   \n",
    "url = f\"{endpoint}?{url_params}\""
   ]
  },
  {
   "cell_type": "markdown",
   "metadata": {},
   "source": [
    "### Forming Sample API Request - Method 2\n",
    "- uses `endpoint.format(**params))`"
   ]
  },
  {
   "cell_type": "code",
   "execution_count": 251,
   "metadata": {},
   "outputs": [],
   "source": [
    "g_key = os.getenv(\"GOOGLE_KEY2\")"
   ]
  },
  {
   "cell_type": "code",
   "execution_count": 252,
   "metadata": {},
   "outputs": [],
   "source": [
    "data_type = \"json\"\n",
    "url = f\"https://maps.googleapis.com/maps/api/place/findplacefromtext/{data_type}\"\n"
   ]
  },
  {
   "cell_type": "code",
   "execution_count": 261,
   "metadata": {},
   "outputs": [],
   "source": [
    "endpoint = \"{input}&{inputtype}&{fields}&{locationbias}&{key}\"\n",
    "params = {\n",
    "    \"input\":\"starbucks\",\n",
    "    \"inputtype\":\"textquery\",\n",
    "    \"fields\":\"formatted_address,name,geometry\",\n",
    "    \"locationbias\":\"point:lat,lng\",\n",
    "    \"key\": f\"{g_key}\",\n",
    "}\n",
    "\n",
    "data = requests.get(url+endpoint.format(**params)) "
   ]
  },
  {
   "cell_type": "code",
   "execution_count": 262,
   "metadata": {},
   "outputs": [
    {
     "name": "stdout",
     "output_type": "stream",
     "text": [
      "<Response [404]>\n"
     ]
    }
   ],
   "source": [
    "print(data)"
   ]
  },
  {
   "cell_type": "markdown",
   "metadata": {},
   "source": [
    "### Sample API Requests for Place\n",
    "- parameters are separated for clarity"
   ]
  },
  {
   "cell_type": "code",
   "execution_count": null,
   "metadata": {},
   "outputs": [],
   "source": [
    "https://maps.googleapis.com/maps/api/place/findplacefromtext/json?\n",
    "    input=Museum%20of%20Contemporary%20Art%20Australia&\n",
    "    inputtype=textquery&\n",
    "    fields=photos,formatted_address,name,rating,opening_hours,geometry&\n",
    "    key=YOUR_API_KEY\n",
    "https://maps.googleapis.com/maps/api/place/findplacefromtext/json?\n",
    "    input=%2B61293744000&\n",
    "    inputtype=phonenumber&\n",
    "    fields=place_id&\n",
    "    key=YOUR_API_KEY\n",
    "https://maps.googleapis.com/maps/api/place/findplacefromtext/\n",
    "    json?input=mongolian%20grill&\n",
    "    inputtype=textquery&\n",
    "    fields=photos,formatted_address,name,opening_hours,rating&\n",
    "    locationbias=circle:2000@47.6918452,-122.2226413&\n",
    "    key=YOUR_API_KEY\n",
    "\n",
    "                 "
   ]
  },
  {
   "cell_type": "markdown",
   "metadata": {},
   "source": [
    "### Decision: Stay with Method 1\n",
    "- **IMPORTANT** pass *url* to `request.get` to hide key"
   ]
  },
  {
   "cell_type": "code",
   "execution_count": 338,
   "metadata": {},
   "outputs": [],
   "source": [
    "data_type = \"json\"\n",
    "endpoint = f\"https://maps.googleapis.com/maps/api/place/findplacefromtext/{data_type}\"\n",
    "params = {\n",
    "    \n",
    "    \"input\":\"starbucks\",\n",
    "    \"inputtype\":\"textquery\",\n",
    "    \"fields\":\"formatted_address,name,geometry\",\n",
    "    \"locationbias\":\"point:lat,lng\",\n",
    "    \"key\": f\"{g_key}\"\n",
    "}\n",
    "\n",
    "\n",
    "url_params = urlencode(params)\n",
    "url = f\"{endpoint}?{url_params}\""
   ]
  },
  {
   "cell_type": "code",
   "execution_count": 339,
   "metadata": {},
   "outputs": [],
   "source": [
    "data = requests.get(url)"
   ]
  },
  {
   "cell_type": "code",
   "execution_count": 285,
   "metadata": {},
   "outputs": [
    {
     "data": {
      "text/plain": [
       "<Response [200]>"
      ]
     },
     "execution_count": 285,
     "metadata": {},
     "output_type": "execute_result"
    }
   ],
   "source": [
    "data"
   ]
  },
  {
   "cell_type": "code",
   "execution_count": 286,
   "metadata": {},
   "outputs": [
    {
     "data": {
      "text/plain": [
       "requests.models.Response"
      ]
     },
     "execution_count": 286,
     "metadata": {},
     "output_type": "execute_result"
    }
   ],
   "source": [
    "type(data)"
   ]
  },
  {
   "cell_type": "code",
   "execution_count": 287,
   "metadata": {},
   "outputs": [],
   "source": [
    "data = data.json()"
   ]
  },
  {
   "cell_type": "code",
   "execution_count": 288,
   "metadata": {},
   "outputs": [
    {
     "data": {
      "text/plain": [
       "dict"
      ]
     },
     "execution_count": 288,
     "metadata": {},
     "output_type": "execute_result"
    }
   ],
   "source": [
    "type(data)"
   ]
  },
  {
   "cell_type": "code",
   "execution_count": 289,
   "metadata": {},
   "outputs": [
    {
     "name": "stdout",
     "output_type": "stream",
     "text": [
      "{'candidates': [{'formatted_address': 'Calle del Dr. Drumen, 4, 28012 Madrid, España', 'geometry': {'location': {'lat': 40.408792, 'lng': -3.6930134}, 'viewport': {'northeast': {'lat': 40.41017507989272, 'lng': -3.691729070107278}, 'southwest': {'lat': 40.40747542010728, 'lng': -3.694428729892722}}}, 'name': 'Starbucks'}], 'status': 'OK'}\n"
     ]
    }
   ],
   "source": [
    "print(data)"
   ]
  },
  {
   "cell_type": "markdown",
   "metadata": {},
   "source": [
    "### We can see our Method 1 has produced a result, but the result is actually near our currrent location\n",
    "- change plan to use **Google nearby search** to define a location such as one of our select cities"
   ]
  },
  {
   "cell_type": "code",
   "execution_count": null,
   "metadata": {},
   "outputs": [],
   "source": [
    "# sample nearby search request with \"*\" next to required fields\n",
    "https://maps.googleapis.com/maps/api/place/nearbysearch/json?\n",
    "  * location=-33.8670522,151.1957362&\n",
    "  * radius=1500&\n",
    "    type=restaurant&\n",
    "    keyword=cruise&\n",
    "  * key=YOUR_API_KEY"
   ]
  },
  {
   "cell_type": "markdown",
   "metadata": {},
   "source": [
    "### The following function will take lat and long of a given locale, the radius we want to search, and what we want nearby"
   ]
  },
  {
   "cell_type": "code",
   "execution_count": 356,
   "metadata": {},
   "outputs": [],
   "source": [
    "def nearby_search(lat, long, radius_in_meters, keyword):\n",
    "    endpoint = \"https://maps.googleapis.com/maps/api/place/nearbysearch/json\"\n",
    "    params = {\n",
    "\n",
    "        \"location\":f\"{lat},{long}\",\n",
    "        \"radius\":f\"{radius_in_meters}\",\n",
    "        \"rankby\" : \"<distance - must include keyword,name,or type\",\n",
    "        \"keyword\":f\"{keyword}\",\n",
    "        \"inputtype\":\"textquery\",\n",
    "        \"fields\":\"formatted_address,name,geometry\",\n",
    "        \"key\": f\"{g_key}\"\n",
    "    }\n",
    "\n",
    "\n",
    "    url_params = urlencode(params)\n",
    "    url = f\"{endpoint}?{url_params}\"\n",
    "    data = requests.get(url)\n",
    "    return data.json()"
   ]
  },
  {
   "cell_type": "markdown",
   "metadata": {},
   "source": [
    "## Let's give it a try 🤞\n",
    "****Spoiler: it didn't work so we went back to previous function for some debuggin'*** 🐞"
   ]
  },
  {
   "cell_type": "markdown",
   "metadata": {},
   "source": [
    "### We are using the first latitude and longitude from our list LA locations further down below."
   ]
  },
  {
   "cell_type": "code",
   "execution_count": 351,
   "metadata": {},
   "outputs": [
    {
     "data": {
      "text/plain": [
       "{'html_attributions': [], 'results': [], 'status': 'INVALID_REQUEST'}"
      ]
     },
     "execution_count": 351,
     "metadata": {},
     "output_type": "execute_result"
    }
   ],
   "source": [
    "nearby_search(34.057498,-118.446596, 500, \"starbucks\")"
   ]
  },
  {
   "cell_type": "code",
   "execution_count": null,
   "metadata": {},
   "outputs": [],
   "source": [
    "endpoint = \"https://maps.googleapis.com/maps/api/place/nearbysearch/json\"\n",
    "params = {\n",
    "\n",
    "    \"location\":\"34.057498,-118.446596\",\n",
    "    \"radius\":\"500\",\n",
    "    \"keyword\":\"starbucks\",\n",
    "    \"inputtype\":\"textquery\",\n",
    "    \"fields\":\"formatted_address,name,geometry\",\n",
    "    \"key\": f\"{g_key}\"\n",
    "}\n",
    "\n",
    "url_params = urlencode(params)\n",
    "url = f\"{endpoint}?{url_params}\"\n",
    "data = requests.get(url)\n",
    "#return data.json()\n",
    "starbucks = data.json()"
   ]
  },
  {
   "cell_type": "code",
   "execution_count": 363,
   "metadata": {},
   "outputs": [],
   "source": [
    "starbucks = starbucks[\"results\"]"
   ]
  },
  {
   "cell_type": "code",
   "execution_count": 365,
   "metadata": {},
   "outputs": [
    {
     "data": {
      "text/plain": [
       "5"
      ]
     },
     "execution_count": 365,
     "metadata": {},
     "output_type": "execute_result"
    }
   ],
   "source": [
    "len(starbucks)"
   ]
  },
  {
   "cell_type": "markdown",
   "metadata": {},
   "source": [
    "### Well, aren't Execs gonna be giddy about this one!!! There's a Starbucks at every corner within a 500m radius!"
   ]
  },
  {
   "cell_type": "code",
   "execution_count": 383,
   "metadata": {},
   "outputs": [
    {
     "name": "stdout",
     "output_type": "stream",
     "text": [
      "[[34.0594359, -118.4447505], [34.062529, -118.447346], [34.062686, -118.444064], [34.0540732, -118.4404088], [34.0598259, -118.4445406]]\n"
     ]
    }
   ],
   "source": [
    "starbucks_geometries =[] \n",
    "\n",
    "for location in starbucks:\n",
    "    lat_lng = []\n",
    "    lat_lng.append(location[\"geometry\"]['location']['lat'])\n",
    "    lat_lng.append(location[\"geometry\"]['location']['lng'])\n",
    "    starbucks_geometries.append(lat_lng)\n",
    "    \n",
    "    \n",
    "print(starbucks_geometries)    "
   ]
  },
  {
   "cell_type": "markdown",
   "metadata": {},
   "source": [
    "# We are going to look for vegan restaruants in Los Angeles..."
   ]
  },
  {
   "cell_type": "code",
   "execution_count": 411,
   "metadata": {},
   "outputs": [],
   "source": [
    "endpoint = \"https://maps.googleapis.com/maps/api/place/nearbysearch/json\"\n",
    "params = {\n",
    "\n",
    "    \"location\":\"34.057498,-118.446596\",\n",
    "    \"radius\":\"200\",\n",
    "    \"keyword\":\"vegan restaurants\",\n",
    "    \"inputtype\":\"textquery\",\n",
    "    \"fields\":\"formatted_address,name,geometry\",\n",
    "    \"key\": f\"{g_key}\"\n",
    "}\n",
    "\n",
    "url_params = urlencode(params)\n",
    "url = f\"{endpoint}?{url_params}\"\n",
    "data = requests.get(url)\n",
    "#return data.json()\n",
    "vegan = data.json()"
   ]
  },
  {
   "cell_type": "code",
   "execution_count": 412,
   "metadata": {},
   "outputs": [],
   "source": [
    "vegan = vegan[\"results\"]\n"
   ]
  },
  {
   "cell_type": "code",
   "execution_count": 413,
   "metadata": {},
   "outputs": [
    {
     "data": {
      "text/plain": [
       "9"
      ]
     },
     "execution_count": 413,
     "metadata": {},
     "output_type": "execute_result"
    }
   ],
   "source": [
    "len(vegan)"
   ]
  },
  {
   "cell_type": "code",
   "execution_count": 414,
   "metadata": {},
   "outputs": [
    {
     "name": "stdout",
     "output_type": "stream",
     "text": [
      "[[34.0593399, -118.4451485], [34.0598901, -118.4459704], [34.0597447, -118.4456233], [34.0572508, -118.4431379], [34.059878, -118.444609], [34.0604948, -118.4445603], [34.06111509999999, -118.4462877], [34.061434, -118.446446], [34.061132, -118.445682]]\n"
     ]
    }
   ],
   "source": [
    "vegan_geometries =[] \n",
    "\n",
    "for location in vegan:\n",
    "    lat_lng = []\n",
    "    lat_lng.append(location[\"geometry\"]['location']['lat'])\n",
    "    lat_lng.append(location[\"geometry\"]['location']['lng'])\n",
    "    vegan_geometries.append(lat_lng)\n",
    "    \n",
    "    \n",
    "print(vegan_geometries)    "
   ]
  },
  {
   "cell_type": "markdown",
   "metadata": {},
   "source": [
    "## ***Looks like our vegan bet paid off !!***"
   ]
  },
  {
   "cell_type": "code",
   "execution_count": 340,
   "metadata": {},
   "outputs": [
    {
     "data": {
      "text/plain": [
       "18801"
      ]
     },
     "execution_count": 340,
     "metadata": {},
     "output_type": "execute_result"
    }
   ],
   "source": [
    "client = MongoClient(\"mongodb://localhost\")\n",
    "db = client.get_database(\"companydb\")\n",
    "comp_find = db.companies.find({})\n",
    "comp_find = list(comp_find)\n",
    "len(comp_find)"
   ]
  },
  {
   "cell_type": "code",
   "execution_count": 341,
   "metadata": {},
   "outputs": [],
   "source": [
    "comp = db.companies"
   ]
  },
  {
   "cell_type": "code",
   "execution_count": 326,
   "metadata": {},
   "outputs": [],
   "source": [
    "res = comp.aggregate([\n",
    "                      {\"$unwind\":\"$offices\" },\n",
    "                      {\"$match\":{\"offices.latitude\":{\"$ne\":None}}},\n",
    "                      {\"$match\":{\"offices.longitude\":{\"$ne\":None}}},\n",
    "                      {\"$match\":{\"offices.city\":{\"$ne\":None}}},\n",
    "                      {\"$match\":{\"offices.city\":{\"$ne\": \"\"}}},\n",
    "                      {\"$match\":{\"offices.city\": \"Los Angeles\"}},\n",
    "                      {\"$project\":{\"_id\":0}}\n",
    "                    ])\n"
   ]
  },
  {
   "cell_type": "code",
   "execution_count": 325,
   "metadata": {},
   "outputs": [
    {
     "data": {
      "text/plain": [
       "168"
      ]
     },
     "execution_count": 325,
     "metadata": {},
     "output_type": "execute_result"
    }
   ],
   "source": [
    "len(list(res))"
   ]
  },
  {
   "cell_type": "code",
   "execution_count": 298,
   "metadata": {},
   "outputs": [
    {
     "data": {
      "text/plain": [
       "<pymongo.results.InsertManyResult at 0x10f25fd00>"
      ]
     },
     "execution_count": 298,
     "metadata": {},
     "output_type": "execute_result"
    }
   ],
   "source": [
    "db.los_angeles_offices.insert_many(res)"
   ]
  },
  {
   "cell_type": "markdown",
   "metadata": {},
   "source": [
    "# Now we have our collection of possible offices in L.A."
   ]
  },
  {
   "cell_type": "code",
   "execution_count": 342,
   "metadata": {},
   "outputs": [],
   "source": [
    "filter_q = { }\n",
    "project = {\"_id\":0, \"offices.latitude\":1 ,\"offices.longitude\":1 }\n",
    "res = list(db.los_angeles_offices.find(filter_q, project))"
   ]
  },
  {
   "cell_type": "code",
   "execution_count": 347,
   "metadata": {},
   "outputs": [
    {
     "name": "stdout",
     "output_type": "stream",
     "text": [
      "34.057498 -118.446596\n"
     ]
    }
   ],
   "source": [
    "print(res[0]['offices']['latitude'],res[0]['offices']['longitude'])"
   ]
  },
  {
   "cell_type": "code",
   "execution_count": 308,
   "metadata": {},
   "outputs": [],
   "source": [
    "for site in res:\n",
    "    lat = site['offices']['latitude']\n",
    "    lon = site['offices']['longitude']\n",
    "    "
   ]
  },
  {
   "cell_type": "code",
   "execution_count": 331,
   "metadata": {},
   "outputs": [],
   "source": [
    "db = client.get_database(\"datamad1020\")\n",
    "coll = db.los_angeles_offices"
   ]
  },
  {
   "cell_type": "code",
   "execution_count": 332,
   "metadata": {},
   "outputs": [],
   "source": [
    "res = coll.create_index([(\"coord\", \"2dsphere\")])"
   ]
  },
  {
   "cell_type": "code",
   "execution_count": 333,
   "metadata": {},
   "outputs": [
    {
     "data": {
      "text/plain": [
       "'coord_2dsphere'"
      ]
     },
     "execution_count": 333,
     "metadata": {},
     "output_type": "execute_result"
    }
   ],
   "source": [
    "res"
   ]
  },
  {
   "cell_type": "markdown",
   "metadata": {},
   "source": [
    "## Let's . . . Get . . . VI-SU-AL . . . "
   ]
  },
  {
   "cell_type": "markdown",
   "metadata": {},
   "source": [
    "![Olivia Newton](olivianewton.jpg \"Physical!\")"
   ]
  },
  {
   "cell_type": "markdown",
   "metadata": {},
   "source": [
    "(Go to [geoJSON and Folium](/notebooks/geoJSON_and_Folium.ipynb) next)"
   ]
  }
 ],
 "metadata": {
  "kernelspec": {
   "display_name": "Python 3",
   "language": "python",
   "name": "python3"
  },
  "language_info": {
   "codemirror_mode": {
    "name": "ipython",
    "version": 3
   },
   "file_extension": ".py",
   "mimetype": "text/x-python",
   "name": "python",
   "nbconvert_exporter": "python",
   "pygments_lexer": "ipython3",
   "version": "3.8.5"
  }
 },
 "nbformat": 4,
 "nbformat_minor": 4
}
